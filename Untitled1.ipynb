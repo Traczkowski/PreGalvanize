{
 "cells": [
  {
   "cell_type": "code",
   "execution_count": 7,
   "metadata": {
    "collapsed": true
   },
   "outputs": [],
   "source": [
    "import numpy as np\n",
    "\n",
    "a = ['a', 'b', 'c', 'd', 'e']\n",
    "b = ['a', 'c', 'f', 'g']\n",
    "\n",
    "\n",
    "\n",
    "\n",
    "\n",
    "\n",
    "\n",
    "\n",
    "\n",
    "\n",
    "\n",
    "\n",
    "\n",
    "\n",
    "\n",
    "\n",
    "\n"
   ]
  },
  {
   "cell_type": "code",
   "execution_count": 8,
   "metadata": {},
   "outputs": [
    {
     "name": "stdout",
     "output_type": "stream",
     "text": [
      "hello\n"
     ]
    }
   ],
   "source": [
    "a = 'hello'\n",
    "\n",
    "\n",
    "\n",
    "\n",
    "\n",
    "a.join(\"hi\")\n",
    "print(a)\n",
    "\n",
    "\n",
    "\n",
    "\n",
    "\n",
    "\n",
    "\n",
    "\n",
    "\n",
    "\n",
    "\n"
   ]
  },
  {
   "cell_type": "code",
   "execution_count": 11,
   "metadata": {
    "collapsed": true
   },
   "outputs": [],
   "source": [
    "a = ['a', 'b', 'c', 'd', 'e']\n",
    "b = ['a', 'c', 'f', 'g']\n"
   ]
  },
  {
   "cell_type": "code",
   "execution_count": 30,
   "metadata": {
    "collapsed": true
   },
   "outputs": [],
   "source": [
    "def arraychange(a, b):\n",
    "    return set(a).intersection(set(b))\n",
    "    "
   ]
  },
  {
   "cell_type": "code",
   "execution_count": 31,
   "metadata": {},
   "outputs": [
    {
     "data": {
      "text/plain": [
       "{'a', 'c'}"
      ]
     },
     "execution_count": 31,
     "metadata": {},
     "output_type": "execute_result"
    }
   ],
   "source": [
    "arraychange(a,b)"
   ]
  },
  {
   "cell_type": "code",
   "execution_count": 20,
   "metadata": {
    "collapsed": true
   },
   "outputs": [],
   "source": [
    "def simp(a,b):\n",
    "    new = []\n",
    "    for i in a:\n",
    "        if i not in b:\n",
    "            new.append(i)\n",
    "    return new"
   ]
  },
  {
   "cell_type": "code",
   "execution_count": 48,
   "metadata": {
    "collapsed": true
   },
   "outputs": [],
   "source": [
    "trial = [i for i in a if i not in b]"
   ]
  },
  {
   "cell_type": "code",
   "execution_count": 49,
   "metadata": {},
   "outputs": [
    {
     "data": {
      "text/plain": [
       "['b', 'd', 'e']"
      ]
     },
     "execution_count": 49,
     "metadata": {},
     "output_type": "execute_result"
    }
   ],
   "source": [
    "trial"
   ]
  },
  {
   "cell_type": "code",
   "execution_count": 50,
   "metadata": {
    "collapsed": true
   },
   "outputs": [],
   "source": [
    "import math"
   ]
  },
  {
   "cell_type": "code",
   "execution_count": 1,
   "metadata": {
    "collapsed": true
   },
   "outputs": [],
   "source": [
    "import numpy as np"
   ]
  },
  {
   "cell_type": "code",
   "execution_count": 18,
   "metadata": {},
   "outputs": [],
   "source": [
    "array = np.array([1,2,3,4,5,6,7,8,9,0])\n",
    "numz = 15"
   ]
  },
  {
   "cell_type": "code",
   "execution_count": 19,
   "metadata": {},
   "outputs": [
    {
     "name": "stdout",
     "output_type": "stream",
     "text": [
      "[1 2 3 4 5 6 7 8 9 0]\n"
     ]
    }
   ],
   "source": [
    "print(array)"
   ]
  },
  {
   "cell_type": "code",
   "execution_count": 20,
   "metadata": {},
   "outputs": [
    {
     "name": "stdout",
     "output_type": "stream",
     "text": [
      "[ 15.           7.5          5.           3.75         3.           2.5\n",
      "   2.14285714   1.875        1.66666667]\n"
     ]
    }
   ],
   "source": [
    "print(15/array[:-1])"
   ]
  },
  {
   "cell_type": "code",
   "execution_count": 27,
   "metadata": {
    "collapsed": true
   },
   "outputs": [],
   "source": [
    "def is_prime(num):\n",
    "    booly = True\n",
    "    a1 = [i for i in range(2,num)]\n",
    "    npa = np.array(a1)\n",
    "    truearr = []\n",
    "    for l in npa:\n",
    "        if l == int(l):\n",
    "            return False\n",
    "        elif l != int(l):\n",
    "            return True\n",
    "    print(npa)"
   ]
  },
  {
   "cell_type": "code",
   "execution_count": 28,
   "metadata": {},
   "outputs": [
    {
     "name": "stdout",
     "output_type": "stream",
     "text": [
      "[ 2  3  4  5  6  7  8  9 10 11 12 13 14]\n"
     ]
    }
   ],
   "source": [
    "is_prime(numz)"
   ]
  },
  {
   "cell_type": "code",
   "execution_count": 30,
   "metadata": {
    "scrolled": true
   },
   "outputs": [
    {
     "ename": "ValueError",
     "evalue": "The truth value of an array with more than one element is ambiguous. Use a.any() or a.all()",
     "output_type": "error",
     "traceback": [
      "\u001b[0;31m---------------------------------------------------------------------------\u001b[0m",
      "\u001b[0;31mValueError\u001b[0m                                Traceback (most recent call last)",
      "\u001b[0;32m<ipython-input-30-f80ed3ac6c1f>\u001b[0m in \u001b[0;36m<module>\u001b[0;34m()\u001b[0m\n\u001b[0;32m----> 1\u001b[0;31m \u001b[0;32mif\u001b[0m \u001b[0;36m2\u001b[0m\u001b[0;34m/\u001b[0m\u001b[0marray\u001b[0m\u001b[0;34m[\u001b[0m\u001b[0;34m:\u001b[0m\u001b[0;34m-\u001b[0m\u001b[0;36m1\u001b[0m\u001b[0;34m]\u001b[0m \u001b[0;34m==\u001b[0m \u001b[0;32mTrue\u001b[0m\u001b[0;34m:\u001b[0m\u001b[0;34m\u001b[0m\u001b[0m\n\u001b[0m\u001b[1;32m      2\u001b[0m     \u001b[0mprint\u001b[0m\u001b[0;34m(\u001b[0m\u001b[0;32mTrue\u001b[0m\u001b[0;34m)\u001b[0m\u001b[0;34m\u001b[0m\u001b[0m\n",
      "\u001b[0;31mValueError\u001b[0m: The truth value of an array with more than one element is ambiguous. Use a.any() or a.all()"
     ]
    }
   ],
   "source": [
    "if 2/array[:-1] == True:\n",
    "    print(True)"
   ]
  },
  {
   "cell_type": "code",
   "execution_count": null,
   "metadata": {},
   "outputs": [],
   "source": [
    "a = \"123ajdfkadfdPDFSDAFJADSZ111\"\n",
    "print(a.lower())\n",
    "\n",
    "\n",
    "\n",
    "\n",
    "\n",
    "\n",
    "\n",
    "\n",
    "\n",
    "\n",
    "\n",
    "\n",
    "\n",
    "\n",
    "\n",
    "\n",
    "\n",
    "\n",
    "\n",
    "\n",
    "\n",
    "\n",
    "\n",
    "\n",
    "\n"
   ]
  },
  {
   "cell_type": "code",
   "execution_count": null,
   "metadata": {},
   "outputs": [],
   "source": [
    "text = \"asses\"\n",
    "tlist = list(text)\n",
    "ulist = list(np.unique(tlist))\n",
    "print(tlist)\n",
    "print(ulist)\n",
    "unique_dict = {}\n",
    "\n",
    "for item in tlist:\n",
    "    if item in unique_dict:\n",
    "        unique_dict[item] += 1\n",
    "    else:\n",
    "        unique_dict[item] == 1\n",
    "print(unique_dict)\n",
    "\n",
    "\n",
    "\"\"\"\n",
    "uniqued = {}\n",
    "for i in tlist:\n",
    "    if i in ulist:\n",
    "        uniqued[i] += 1\n",
    "    else:\n",
    "        uniqued[i] = 1\n",
    "orderedu = sorted(uniqued.items(), key = lambda x:x[1], reverse = True)\"\"\""
   ]
  },
  {
   "cell_type": "code",
   "execution_count": 49,
   "metadata": {
    "collapsed": true
   },
   "outputs": [],
   "source": [
    "weightstring = \"56 65 74 100 99 68 86 180 90\""
   ]
  },
  {
   "cell_type": "code",
   "execution_count": 50,
   "metadata": {
    "collapsed": true
   },
   "outputs": [],
   "source": [
    "def weightweight (ws):\n",
    "    a = ws.split(\" \")\n",
    "    print(a)\n",
    "    i = 0\n",
    "    \n",
    "    while i < len(a):\n",
    "        a[i]"
   ]
  },
  {
   "cell_type": "code",
   "execution_count": 51,
   "metadata": {},
   "outputs": [
    {
     "name": "stdout",
     "output_type": "stream",
     "text": [
      "['56', '65', '74', '100', '99', '68', '86', '180', '90']\n"
     ]
    }
   ],
   "source": [
    "weightweight (weightstring)"
   ]
  },
  {
   "cell_type": "code",
   "execution_count": 52,
   "metadata": {
    "collapsed": true
   },
   "outputs": [],
   "source": [
    "str = '123'"
   ]
  },
  {
   "cell_type": "code",
   "execution_count": 1,
   "metadata": {},
   "outputs": [],
   "source": [
    "my_num = 7\n",
    "result = 0\n",
    "current = 1\n",
    "\n",
    "while current <= my_num:\n",
    "    result += current\n",
    "    current += 1\n"
   ]
  },
  {
   "cell_type": "code",
   "execution_count": 6,
   "metadata": {},
   "outputs": [
    {
     "name": "stdout",
     "output_type": "stream",
     "text": [
      "Please enter a number: -9\n",
      "The inputted number is negative.\n"
     ]
    }
   ],
   "source": [
    "number = int(input('Please enter a number: '))\n",
    "\n",
    "if number > 0:\n",
    "    print('The inputted number is positive.')\n",
    "elif number < 0:\n",
    "    print('The inputted number is negative.')\n",
    "else:\n",
    "    print('The inputted number is zero.')"
   ]
  },
  {
   "cell_type": "code",
   "execution_count": 9,
   "metadata": {},
   "outputs": [
    {
     "name": "stdout",
     "output_type": "stream",
     "text": [
      "Please enter a number: 1\n",
      "Please enter another number: -0\n",
      "The first number is larger.\n"
     ]
    }
   ],
   "source": [
    "# Example input() statement\n",
    "num1 = int(input('Please enter a number: '))\n",
    "num2 = int(input('Please enter another number: '))\n",
    "\n",
    "if num1 > num2:\n",
    "    print('The first number is larger.')\n",
    "elif num1 < num2:\n",
    "    print('The second number is larger.')\n",
    "elif num1 == num2:\n",
    "    print('The two numbers are equal.')"
   ]
  },
  {
   "cell_type": "code",
   "execution_count": null,
   "metadata": {},
   "outputs": [],
   "source": [
    "# Example input() statement\n",
    "number = int(input('Please enter a number: '))\n",
    "result = 1\n",
    "\n",
    "if number == 0:\n",
    "    result = 1\n",
    "else:\n",
    "    for i in range(number, 0, -1):\n",
    "        result *= i\n",
    "    \n",
    "        \n",
    "        \n",
    "print(result)"
   ]
  },
  {
   "cell_type": "code",
   "execution_count": null,
   "metadata": {},
   "outputs": [],
   "source": [
    "\"\"\"number = int(input('Please enter a number: '))\n",
    "\n",
    "for i in range(1,number+1):\n",
    "    if number % i == 0:\n",
    "        print(i)"
   ]
  },
  {
   "cell_type": "code",
   "execution_count": null,
   "metadata": {},
   "outputs": [],
   "source": [
    "num1 = int(input('Please enter a number: '))\n",
    "num2 = int(input('Please enter another number: '))\n",
    "result = 0\n",
    "\"\"\"\n",
    "if num1 < num2:\n",
    "    lower = num1\n",
    "    higher = num2\n",
    "else:\n",
    "    lower = num2\n",
    "    higher = num1\n",
    "\n",
    "for i in range (lower, 1, -1):\n",
    "    if lower % i == 0:\n",
    "        if higher % == 0:\n",
    "            result = i\n",
    "        else:\n",
    "            continue\n",
    "    \n",
    "    "
   ]
  },
  {
   "cell_type": "code",
   "execution_count": null,
   "metadata": {},
   "outputs": [],
   "source": [
    "print(result)"
   ]
  },
  {
   "cell_type": "code",
   "execution_count": null,
   "metadata": {},
   "outputs": [],
   "source": [
    "num1 = int(input('Please enter a number: '))\n",
    "num2 = int(input('Please enter another number: '))\n",
    "\n"
   ]
  },
  {
   "cell_type": "code",
   "execution_count": null,
   "metadata": {},
   "outputs": [],
   "source": [
    "a = 1"
   ]
  },
  {
   "cell_type": "code",
   "execution_count": null,
   "metadata": {},
   "outputs": [],
   "source": []
  }
 ],
 "metadata": {
  "kernelspec": {
   "display_name": "Python 3",
   "language": "python",
   "name": "python3"
  },
  "language_info": {
   "codemirror_mode": {
    "name": "ipython",
    "version": 3
   },
   "file_extension": ".py",
   "mimetype": "text/x-python",
   "name": "python",
   "nbconvert_exporter": "python",
   "pygments_lexer": "ipython3",
   "version": "3.6.4"
  }
 },
 "nbformat": 4,
 "nbformat_minor": 2
}
